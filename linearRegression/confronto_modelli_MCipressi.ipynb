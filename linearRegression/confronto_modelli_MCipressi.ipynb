{
  "nbformat": 4,
  "nbformat_minor": 0,
  "metadata": {
    "colab": {
      "provenance": [],
      "authorship_tag": "ABX9TyM/Qsx1lLIqLDIbp1nlkA9h",
      "include_colab_link": true
    },
    "kernelspec": {
      "name": "python3",
      "display_name": "Python 3"
    },
    "language_info": {
      "name": "python"
    }
  },
  "cells": [
    {
      "cell_type": "markdown",
      "metadata": {
        "id": "view-in-github",
        "colab_type": "text"
      },
      "source": [
        "<a href=\"https://colab.research.google.com/github/massimocipressi/MLPNS_MCipressi/blob/main/linearRegression/confronto_modelli_MCipressi.ipynb\" target=\"_parent\"><img src=\"https://colab.research.google.com/assets/colab-badge.svg\" alt=\"Open In Colab\"/></a>"
      ]
    },
    {
      "cell_type": "code",
      "execution_count": null,
      "metadata": {
        "id": "bNvvUYmuzeFP"
      },
      "outputs": [],
      "source": [
        "log_lik_line = -17.5252\n",
        "log_lik_bpl = -217.465"
      ]
    },
    {
      "cell_type": "markdown",
      "source": [
        "La likelyhood è minore col modello più complesso che con quello più semplice; \n",
        "quindi va sicuramente accettato il modello più semplice."
      ],
      "metadata": {
        "id": "23JzJi9d26CT"
      }
    }
  ]
}