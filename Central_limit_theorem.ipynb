{
  "nbformat": 4,
  "nbformat_minor": 0,
  "metadata": {
    "colab": {
      "provenance": [],
      "authorship_tag": "ABX9TyNQBfP3zm1wnsGPBgFi96mV",
      "include_colab_link": true
    },
    "kernelspec": {
      "name": "python3",
      "display_name": "Python 3"
    },
    "language_info": {
      "name": "python"
    }
  },
  "cells": [
    {
      "cell_type": "markdown",
      "metadata": {
        "id": "view-in-github",
        "colab_type": "text"
      },
      "source": [
        "<a href=\"https://colab.research.google.com/github/massimocipressi/MLPNS_MCipressi/blob/main/Central_limit_theorem.ipynb\" target=\"_parent\"><img src=\"https://colab.research.google.com/assets/colab-badge.svg\" alt=\"Open In Colab\"/></a>"
      ]
    },
    {
      "cell_type": "code",
      "execution_count": 3,
      "metadata": {
        "id": "QFymgcJNUZAh"
      },
      "outputs": [],
      "source": [
        "import pylab as pl\n",
        "import numpy as np\n",
        "import scipy as sp\n",
        "#from scipy.optimize import curve.fit, minimize #per minimizzazione\n",
        "import seaborn #per stile plot\n",
        "seaborn.set_style(\"darkgrid\")"
      ]
    },
    {
      "cell_type": "code",
      "source": [
        "np.random.seed(125)\n",
        "mymean = 100"
      ],
      "metadata": {
        "id": "LH4uDUA9Uzwc"
      },
      "execution_count": 4,
      "outputs": []
    },
    {
      "cell_type": "code",
      "source": [],
      "metadata": {
        "id": "HV4rrDIYVGsE"
      },
      "execution_count": null,
      "outputs": []
    }
  ]
}