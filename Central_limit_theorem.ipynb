{
  "nbformat": 4,
  "nbformat_minor": 0,
  "metadata": {
    "colab": {
      "provenance": [],
      "authorship_tag": "ABX9TyM3+vIWOEercH4EC4ACnSWi",
      "include_colab_link": true
    },
    "kernelspec": {
      "name": "python3",
      "display_name": "Python 3"
    },
    "language_info": {
      "name": "python"
    }
  },
  "cells": [
    {
      "cell_type": "markdown",
      "metadata": {
        "id": "view-in-github",
        "colab_type": "text"
      },
      "source": [
        "<a href=\"https://colab.research.google.com/github/massimocipressi/MLPNS_MCipressi/blob/main/Central_limit_theorem.ipynb\" target=\"_parent\"><img src=\"https://colab.research.google.com/assets/colab-badge.svg\" alt=\"Open In Colab\"/></a>"
      ]
    },
    {
      "cell_type": "code",
      "execution_count": 1,
      "metadata": {
        "id": "QFymgcJNUZAh"
      },
      "outputs": [],
      "source": [
        "import pylab as pl\n",
        "import numpy as np\n",
        "import scipy as sp\n",
        "#from scipy.optimize import curve.fit, minimize #per minimizzazione\n",
        "import seaborn #per stile plot\n",
        "seaborn.set_style(\"darkgrid\")"
      ]
    },
    {
      "cell_type": "code",
      "source": [
        "np.random.seed(111)\n",
        "mymean = 100"
      ],
      "metadata": {
        "id": "LH4uDUA9Uzwc"
      },
      "execution_count": 2,
      "outputs": []
    },
    {
      "cell_type": "code",
      "source": [
        "#facciamo con una chi square distribution che ha df = mean\n",
        "df = mymean"
      ],
      "metadata": {
        "id": "HV4rrDIYVGsE"
      },
      "execution_count": 3,
      "outputs": []
    },
    {
      "cell_type": "code",
      "source": [
        "#creiamo un dizionario mi riferisco a dei valori per nome e non per posizione\n",
        "#inizio creandolo vuoto\n",
        "mydist = {}"
      ],
      "metadata": {
        "id": "Z78DVK_rWLF6"
      },
      "execution_count": 4,
      "outputs": []
    },
    {
      "cell_type": "code",
      "source": [
        "#le distribuzioni ci sono sia in scipy che in numpy\n",
        "pl.hist(np.random.chisquare(mymean,size=500)) #hist ci dà anche un return value con l'istogramma\n",
        "pl.ylabel(\"N\")\n",
        "pl.xlabel(\"x\")"
      ],
      "metadata": {
        "colab": {
          "base_uri": "https://localhost:8080/",
          "height": 297
        },
        "id": "NrDbtR8fWsQJ",
        "outputId": "d546f446-1f36-413a-b785-7da4e916631b"
      },
      "execution_count": 5,
      "outputs": [
        {
          "output_type": "execute_result",
          "data": {
            "text/plain": [
              "Text(0.5, 0, 'x')"
            ]
          },
          "metadata": {},
          "execution_count": 5
        },
        {
          "output_type": "display_data",
          "data": {
            "text/plain": [
              "<Figure size 432x288 with 1 Axes>"
            ],
            "image/png": "[encoded data removed]"
          },
          "metadata": {}
        }
      ]
    },
    {
      "cell_type": "code",
      "source": [
        "#scegliamo 100 size fra 10 e 2000 (qui facciamo da 0, correggere)\n",
        "mysize = (np.random.rand(100)*2000).astype(int) #sarebbero continui li voglio int perché sono size\n",
        "mysize[mysize<10]=10\n",
        "pl.plot(mysize,'.');"
      ],
      "metadata": {
        "colab": {
          "base_uri": "https://localhost:8080/",
          "height": 265
        },
        "id": "CjHMK0FcXFPb",
        "outputId": "d3740b01-fe24-4e3f-b8e6-d55132eac045"
      },
      "execution_count": 6,
      "outputs": [
        {
          "output_type": "display_data",
          "data": {
            "text/plain": [
              "<Figure size 432x288 with 1 Axes>"
            ],
            "image/png": "[encoded data removed]"
          },
          "metadata": {}
        }
      ]
    },
    {
      "cell_type": "code",
      "source": [
        "for s in mysize:\n",
        "  mydist[s] = np.random.chisquare(mymean,size=s) #così ho tutte le sample e le posso chiamare per nome"
      ],
      "metadata": {
        "id": "tsckN9E4YC2m"
      },
      "execution_count": 7,
      "outputs": []
    },
    {
      "cell_type": "code",
      "source": [
        "ax=pl.figure().add_subplot(111)\n",
        "for d in mydist.keys(): #questo fa correre sui numeri del dizionario\n",
        "  ax.plot(d,mydist[d].mean(),'.')\n",
        "\n",
        "ax.plot(pl.xlim(), [100,100], 'k', alpha = 0.5) #do le y iniz e fin di una linea\n",
        "ax.set_xlabel(\"sample size\")\n",
        "ax.set_ylabel(\"sample mean\")\n",
        "\n",
        "#trovo una gaussiana con media mymean e varianza che è la varianza/sqrt(N)\n",
        "#i singoli punti si allontanano di più a taglia piccola perché anche qui la varianza va con 1/sqrt(N)\n",
        "\n",
        "#sarebbe più utile mettere più punti vicino allo zero\n",
        "#poi provare altre distribuzioni\n",
        "\n",
        "#eventualmente fare fit"
      ],
      "metadata": {
        "colab": {
          "base_uri": "https://localhost:8080/",
          "height": 299
        },
        "id": "AuxuKcg-YmNo",
        "outputId": "7a1c0c7a-c134-47d9-9e74-f72a1ef9a49f"
      },
      "execution_count": 8,
      "outputs": [
        {
          "output_type": "execute_result",
          "data": {
            "text/plain": [
              "Text(0, 0.5, 'sample mean')"
            ]
          },
          "metadata": {},
          "execution_count": 8
        },
        {
          "output_type": "display_data",
          "data": {
            "text/plain": [
              "<Figure size 432x288 with 1 Axes>"
            ],
            "image/png": "[encoded data removed]"
          },
          "metadata": {}
        }
      ]
    },
    {
      "cell_type": "code",
      "source": [],
      "metadata": {
        "id": "T4MqDBikZNPO"
      },
      "execution_count": 8,
      "outputs": []
    }
  ]
}